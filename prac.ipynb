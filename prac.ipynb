{
  "nbformat": 4,
  "nbformat_minor": 0,
  "metadata": {
    "colab": {
      "name": "prac.ipynb",
      "private_outputs": true,
      "provenance": [],
      "authorship_tag": "ABX9TyOlo+xWpHwAvanlbFQ6sXBC",
      "include_colab_link": true
    },
    "kernelspec": {
      "name": "ir",
      "display_name": "R"
    }
  },
  "cells": [
    {
      "cell_type": "markdown",
      "metadata": {
        "id": "view-in-github",
        "colab_type": "text"
      },
      "source": [
        "<a href=\"https://colab.research.google.com/github/junghee-chun/prac_class/blob/main/prac.ipynb\" target=\"_parent\"><img src=\"https://colab.research.google.com/assets/colab-badge.svg\" alt=\"Open In Colab\"/></a>"
      ]
    },
    {
      "cell_type": "code",
      "metadata": {
        "id": "rXJj56AvQPy2"
      },
      "source": [
        "library(tidyverse)\r\n"
      ],
      "execution_count": null,
      "outputs": []
    },
    {
      "cell_type": "code",
      "metadata": {
        "id": "Ptmrt01HVIAp"
      },
      "source": [
        "cars\r\n",
        "summary(cars)\r\n",
        "cars %>% summary()\r\n",
        "cars %>% head()"
      ],
      "execution_count": null,
      "outputs": []
    },
    {
      "cell_type": "code",
      "metadata": {
        "id": "JjBmugZOVaUM"
      },
      "source": [
        "plot(cars)"
      ],
      "execution_count": null,
      "outputs": []
    },
    {
      "cell_type": "code",
      "metadata": {
        "id": "FiChYdFJV5wA"
      },
      "source": [
        "install.packages(\"nycflights13\")\r\n",
        "library(nycflights13)"
      ],
      "execution_count": null,
      "outputs": []
    },
    {
      "cell_type": "code",
      "metadata": {
        "id": "jnlKGF_5WnXV"
      },
      "source": [
        "flights[1:5,]\r\n",
        "?flights"
      ],
      "execution_count": null,
      "outputs": []
    },
    {
      "cell_type": "code",
      "metadata": {
        "id": "dCvPIj_Eac7_"
      },
      "source": [
        "filter(flights,month ==1, day ==1) %>% head()\r\n",
        "flights %>% filter(month == 10 & day == 10) %>% head(3)\r\n",
        "flights %>% filter (month ==1 & day == 1) %>% filter(dest == \"ORD\") %>% head()\r\n",
        "flights %>% filter (month ==1 & day == 1 & dest %in% c(\"ORD\",\"LAS\")) %>% head()"
      ],
      "execution_count": null,
      "outputs": []
    },
    {
      "cell_type": "code",
      "metadata": {
        "id": "7QOUq__TcIv0"
      },
      "source": [
        "arrange(flights,year,month,day) %>% head()\r\n",
        "arrange(flights,desc(dep_delay)) %>% head()"
      ],
      "execution_count": null,
      "outputs": []
    },
    {
      "cell_type": "code",
      "metadata": {
        "id": "SqwFpAjeWA24"
      },
      "source": [
        "system(\"gdown --id 1k1cXQRLoRfwXBp3S6SwfsmIOg5MkviqK\")\r\n",
        "\r\n",
        "data = read.csv(\"gdp_data_100.csv\")\r\n",
        "\r\n",
        "data\r\n"
      ],
      "execution_count": null,
      "outputs": []
    },
    {
      "cell_type": "code",
      "metadata": {
        "id": "FphEgffbcaLm"
      },
      "source": [
        "select(flights,year,month,day) %>% head()\r\n",
        "select(flights, -(year:day)) %>% head()\r\n",
        "select(flights,starts_with(\"arr\")) %>% head() #arr로 시작하는 단어\r\n",
        "select(flights, contains(\"arr\")) %>% head() #arr을 표함하는 단어"
      ],
      "execution_count": null,
      "outputs": []
    },
    {
      "cell_type": "code",
      "metadata": {
        "id": "ah8efbqZdNnb"
      },
      "source": [
        "rename(flights,tail_num = tailnum) %>% head()\r\n",
        "colnames(flights)"
      ],
      "execution_count": null,
      "outputs": []
    },
    {
      "cell_type": "code",
      "metadata": {
        "id": "WD--JhsMhnu0"
      },
      "source": [
        "select(flights,time_hour, air_time,everything()) %>% head() #time_hour, air_time을 맨 앞에 두고 나머지를 뒤에 둘 때"
      ],
      "execution_count": null,
      "outputs": []
    },
    {
      "cell_type": "code",
      "metadata": {
        "id": "JH94ZOyxiBD8"
      },
      "source": [
        "#mutate : create new variables\r\n",
        "flights %>% select(year:day, ends_with(\"delay\"),distance,air_time) %>%\r\n",
        "            mutate(gain =dep_delay - arr_delay,\r\n",
        "                   hours=air_time/60,\r\n",
        "                   gain_per_hour=gain/hours)"
      ],
      "execution_count": null,
      "outputs": []
    },
    {
      "cell_type": "code",
      "metadata": {
        "id": "bI68IHEXjJlm"
      },
      "source": [
        "flight_new <-flights %>% select(year:day, ends_with(\"delay\"),distance,air_time) %>%\r\n",
        "            mutate(gain =dep_delay - arr_delay,\r\n",
        "                   hours=air_time/60,\r\n",
        "                   gain_per_hour=gain/hours)"
      ],
      "execution_count": null,
      "outputs": []
    },
    {
      "cell_type": "code",
      "metadata": {
        "id": "4RUI_1IpjXpr"
      },
      "source": [
        "flight_new"
      ],
      "execution_count": null,
      "outputs": []
    },
    {
      "cell_type": "code",
      "metadata": {
        "id": "G7E0f7Jljebi"
      },
      "source": [
        "flights %>% group_by(year,month,day) %>%\r\n",
        "            summarise(delay = mean(dep_delay,na.rm=TRUE))\r\n",
        "flights %>% group_by(dest) %>%\r\n",
        "            summarise(delay = mean(dep_delay,na.rm=TRUE))\r\n",
        "flights %>% group_by(origin) %>%\r\n",
        "            summarise(delay = mean(dep_delay,na.rm=TRUE),\r\n",
        "                      delay_sd =sd(dep_delay, na.rm =TRUE))"
      ],
      "execution_count": null,
      "outputs": []
    },
    {
      "cell_type": "code",
      "metadata": {
        "id": "RsjRkkG9k2EO"
      },
      "source": [
        "flights %>% group_by(dest) %>%\r\n",
        "            summarise(count=n(), dist =mean(distance,na.rm=TRUE),\r\n",
        "                      delay = mean(arr_delay,na.rm=TRUE)) %>%\r\n",
        "                      filter(count > 20, dest !=\"HNL\") %>%\r\n",
        "                      ggplot(mapping = aes(x = dist, y = delay))+\r\n",
        "                      geom_point(aes(size = count), alpha=1/3) +\r\n",
        "                      geom_smooth(se = FALSE)\r\n",
        "                       \r\n",
        "                      "
      ],
      "execution_count": null,
      "outputs": []
    },
    {
      "cell_type": "code",
      "metadata": {
        "id": "kfB9akUQmpuz"
      },
      "source": [
        "mpg\r\n",
        "ggplot(data=mpg) +\r\n",
        "     geom_point(mapping=aes(x = displ, y=hwy, color = class))"
      ],
      "execution_count": null,
      "outputs": []
    },
    {
      "cell_type": "code",
      "metadata": {
        "id": "H5MINYExoV0k"
      },
      "source": [
        "ggplot(data=mpg) +\r\n",
        "   geom_point(mapping = aes(x = displ, y=hwy)) + theme_bw() +\r\n",
        "  theme(axis.line=element_line(size = 6, colour = \"black\"),\r\n",
        "        panel.grid.minor = element_blank(),\r\n",
        "        panel.border = element_blank(),\r\n",
        "        text = element_text(size = 25))"
      ],
      "execution_count": null,
      "outputs": []
    },
    {
      "cell_type": "markdown",
      "metadata": {
        "id": "tjIxTzYws6Pg"
      },
      "source": [
        "# 새 섹션"
      ]
    }
  ]
}